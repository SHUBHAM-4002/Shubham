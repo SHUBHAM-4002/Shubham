{
  "nbformat": 4,
  "nbformat_minor": 0,
  "metadata": {
    "colab": {
      "provenance": [],
      "authorship_tag": "ABX9TyPmja1YCPf8O4ok99JrX7s9",
      "include_colab_link": true
    },
    "kernelspec": {
      "name": "python3",
      "display_name": "Python 3"
    },
    "language_info": {
      "name": "python"
    }
  },
  "cells": [
    {
      "cell_type": "markdown",
      "metadata": {
        "id": "view-in-github",
        "colab_type": "text"
      },
      "source": [
        "<a href=\"https://colab.research.google.com/github/SHUBHAM-4002/Shubham/blob/main/aimodel.ipynb\" target=\"_parent\"><img src=\"https://colab.research.google.com/assets/colab-badge.svg\" alt=\"Open In Colab\"/></a>"
      ]
    },
    {
      "cell_type": "code",
      "source": [
        "# ai_scribe_with_csv.py\n",
        "\n",
        "import pandas as pd\n",
        "from transformers import pipeline, set_seed\n",
        "import gradio as gr\n",
        "\n",
        "# === Load Core AI Modules ===\n",
        "\n",
        "description_engine = pipeline(\"text-generation\", model=\"EleutherAI/gpt-neo-125M\")\n",
        "set_seed(42)\n",
        "\n",
        "review_synthesizer = pipeline(\"summarization\", model=\"sshleifer/distilbart-cnn-12-6\")\n",
        "\n",
        "# === Core Functions ===\n",
        "\n",
        "def generate_product_description(product_data):\n",
        "    prompt = f\"Create an engaging and informative description for the following product:\\n{product_data}\\n\\nDescription:\"\n",
        "    output = description_engine(prompt, max_length=150, num_return_sequences=1, do_sample=True)\n",
        "    return output[0]['generated_text'].replace(prompt, \"\").strip()\n",
        "\n",
        "def summarize_customer_feedback(feedback_text):\n",
        "    prompt = f\"Summarize this customer feedback:\\n{feedback_text}\"\n",
        "    summary = review_synthesizer(prompt, max_length=80, min_length=30, do_sample=False)\n",
        "    return summary[0]['summary_text']\n",
        "\n",
        "def parse_csv(file):\n",
        "    df = pd.read_csv(file.name)\n",
        "    df['Product Info'] = df.apply(lambda row: f\"{row['Brand']} {row['Model']} with {row['RAM']} RAM, {row['Storage']} storage, {row['Camera']} camera, {row['Display']} display, {row['Battery']} battery.\", axis=1)\n",
        "    return df[['Brand', 'Model', 'Product Info']]\n",
        "\n",
        "def fetch_product_info(selected_row):\n",
        "    if selected_row is not None and len(selected_row) > 0:\n",
        "        return selected_row[0]\n",
        "    return \"\"\n",
        "\n",
        "# === UI ===\n",
        "\n",
        "with gr.Blocks(title=\"Smart Product Content Generator (CSV-enabled)\") as interface:\n",
        "    gr.Markdown(\"## 📦 Smart Product Description & Review Generator with Dataset Upload\")\n",
        "\n",
        "    with gr.Tab(\"📤 Upload Dataset\"):\n",
        "        csv_input = gr.File(label=\"Upload CSV file of mobile phones\", file_types=[\".csv\"])\n",
        "        dataset_output = gr.Dataframe(label=\"Parsed Product Data\", interactive=True)\n",
        "        product_selection = gr.Textbox(visible=False)\n",
        "\n",
        "        def handle_csv(file):\n",
        "            df = parse_csv(file)\n",
        "            return df, df[\"Product Info\"].tolist()\n",
        "\n",
        "        csv_input.change(fn=handle_csv, inputs=csv_input, outputs=[dataset_output, product_selection])\n",
        "\n",
        "    with gr.Tab(\"📝 Generate Product Description\"):\n",
        "        input_desc = gr.Textbox(label=\"Product Information\", lines=4, placeholder=\"Enter or select product info from dataset tab above\")\n",
        "        output_desc = gr.Textbox(label=\"Generated Description\", lines=5)\n",
        "        desc_btn = gr.Button(\"Generate Description\")\n",
        "        desc_btn.click(fn=generate_product_description, inputs=input_desc, outputs=output_desc)\n",
        "\n",
        "    with gr.Tab(\"💬 Generate Review Summary\"):\n",
        "        input_review = gr.Textbox(label=\"Raw Customer Feedback\", lines=4)\n",
        "        output_review = gr.Textbox(label=\"Review Summary\", lines=3)\n",
        "        review_btn = gr.Button(\"Generate Review Summary\")\n",
        "        review_btn.click(fn=summarize_customer_feedback, inputs=input_review, outputs=output_review)\n",
        "\n",
        "# === Launch App ===\n",
        "if __name__ == \"__main__\":\n",
        "    interface.launch()"
      ],
      "metadata": {
        "colab": {
          "base_uri": "https://localhost:8080/",
          "height": 680
        },
        "id": "nqLjav3Lvc2s",
        "outputId": "59feed2b-30db-4851-8f98-9d0d63b3f041"
      },
      "execution_count": null,
      "outputs": [
        {
          "output_type": "stream",
          "name": "stderr",
          "text": [
            "Device set to use cpu\n",
            "Device set to use cpu\n"
          ]
        },
        {
          "output_type": "stream",
          "name": "stdout",
          "text": [
            "It looks like you are running Gradio on a hosted a Jupyter notebook. For the Gradio app to work, sharing must be enabled. Automatically setting `share=True` (you can turn this off by setting `share=False` in `launch()` explicitly).\n",
            "\n",
            "Colab notebook detected. To show errors in colab notebook, set debug=True in launch()\n",
            "* Running on public URL: https://0e40dd3c2978396d6a.gradio.live\n",
            "\n",
            "This share link expires in 1 week. For free permanent hosting and GPU upgrades, run `gradio deploy` from the terminal in the working directory to deploy to Hugging Face Spaces (https://huggingface.co/spaces)\n"
          ]
        },
        {
          "output_type": "display_data",
          "data": {
            "text/plain": [
              "<IPython.core.display.HTML object>"
            ],
            "text/html": [
              "<div><iframe src=\"https://0e40dd3c2978396d6a.gradio.live\" width=\"100%\" height=\"500\" allow=\"autoplay; camera; microphone; clipboard-read; clipboard-write;\" frameborder=\"0\" allowfullscreen></iframe></div>"
            ]
          },
          "metadata": {}
        }
      ]
    }
  ]
}